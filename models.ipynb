{
 "cells": [
  {
   "cell_type": "code",
   "execution_count": 8,
   "metadata": {},
   "outputs": [],
   "source": [
    "import numpy as np\n",
    "import torch\n",
    "from torch import nn\n",
    "from utils import print_losses, load_dataset, load_model, create_model, get_loaders, DATA_DIR, DATASETS"
   ]
  },
  {
   "cell_type": "code",
   "execution_count": 9,
   "metadata": {},
   "outputs": [],
   "source": [
    "def train_step(batch_x: torch.Tensor, \n",
    "               batch_y: torch.Tensor, \n",
    "               model: nn.Module, \n",
    "               optimizer: torch.optim.Optimizer, \n",
    "               criterion\n",
    "              ):\n",
    "    optimizer.zero_grad()\n",
    "    outputs = model(batch_x)\n",
    "    loss = criterion(outputs, batch_y)\n",
    "    loss.backward()\n",
    "    optimizer.step()\n",
    "    return loss.item()\n",
    "    \n",
    "def test_step(batch_x: torch.Tensor, \n",
    "              batch_y: torch.Tensor, \n",
    "              model: nn.Module, \n",
    "              criterion\n",
    "             ):\n",
    "    outputs = model(batch_x)\n",
    "    loss = criterion(outputs, batch_y)\n",
    "    return loss.item()\n",
    "\n",
    "def train_model(x_train: np.array, \n",
    "                y_train: np.array, \n",
    "                x_test: np.array, \n",
    "                y_test: np.array, \n",
    "                model: nn.Module,\n",
    "                dataset_name,\n",
    "                epochs: int = 500,\n",
    "                batch_size: int = 100,\n",
    "                lr: float = 1e-2,\n",
    "                early_stopping_rounds: int = 5,\n",
    "                verbose: bool = True\n",
    "               ):\n",
    "    train_loader, test_loader = get_loaders(x_train, y_train, x_test, y_test, batch_size)\n",
    "    \n",
    "    optimizer = torch.optim.SGD(model.parameters(), lr=lr)\n",
    "    criterion = nn.MSELoss()\n",
    "    best_test_loss = 1000000.0\n",
    "    best_epoch = 0\n",
    "    \n",
    "    train_losses = [test_step(batch_x, batch_y, model, criterion) \n",
    "                    for batch_x, batch_y in train_loader]\n",
    "    test_losses = [test_step(batch_x, batch_y, model, criterion) \n",
    "                   for batch_x, batch_y in test_loader]\n",
    "    if verbose:\n",
    "        print_losses(0, train_losses, test_losses)\n",
    "\n",
    "    for epoch in range(1, epochs + 1):\n",
    "        train_losses = [train_step(batch_x, batch_y, model, optimizer, criterion) \n",
    "                        for batch_x, batch_y in train_loader]\n",
    "        test_losses = [test_step(batch_x, batch_y, model, criterion) \n",
    "                       for batch_x, batch_y in test_loader]\n",
    "        if verbose:\n",
    "            print_losses(epoch, train_losses, test_losses)\n",
    "        mean_test_loss = np.mean(test_losses)\n",
    "        if mean_test_loss < best_test_loss:\n",
    "            torch.save(model.state_dict(), f'best_model_weights-{dataset_name}.pth')\n",
    "            best_test_loss = mean_test_loss\n",
    "            best_epoch = epoch\n",
    "            \n",
    "        if epoch - best_epoch >= early_stopping_rounds:\n",
    "            print(f\"Early Stopping. Best test loss: {best_test_loss} in epoch {best_epoch}\")\n",
    "            break\n",
    "        \n",
    "        "
   ]
  },
  {
   "cell_type": "code",
   "execution_count": null,
   "metadata": {
    "scrolled": false
   },
   "outputs": [
    {
     "name": "stdout",
     "output_type": "stream",
     "text": [
      "========================================================================================\n",
      "dataset: boston_housing, rows: 506, columns: {x.shape[1]}, range of x: {[x.min(), x.max()]}, range of y: {[y.min(), y.max()]}\n",
      "Early Stopping. Best test loss: 0.10547972470521927 in epoch 51\n",
      "========================================================================================\n",
      "dataset: concrete, rows: 1030, columns: {x.shape[1]}, range of x: {[x.min(), x.max()]}, range of y: {[y.min(), y.max()]}\n",
      "Early Stopping. Best test loss: 0.10901600052602589 in epoch 28\n",
      "========================================================================================\n",
      "dataset: energy_heating_load, rows: 768, columns: {x.shape[1]}, range of x: {[x.min(), x.max()]}, range of y: {[y.min(), y.max()]}\n",
      "Early Stopping. Best test loss: 0.04389205574989319 in epoch 89\n",
      "========================================================================================\n",
      "dataset: kin8nm, rows: 8192, columns: {x.shape[1]}, range of x: {[x.min(), x.max()]}, range of y: {[y.min(), y.max()]}\n",
      "Early Stopping. Best test loss: 0.10329064975182216 in epoch 108\n",
      "========================================================================================\n",
      "dataset: naval_compressor_decay, rows: 11934, columns: {x.shape[1]}, range of x: {[x.min(), x.max()]}, range of y: {[y.min(), y.max()]}\n",
      "Early Stopping. Best test loss: 0.49099695434172946 in epoch 30\n",
      "========================================================================================\n",
      "dataset: power, rows: 9568, columns: {x.shape[1]}, range of x: {[x.min(), x.max()]}, range of y: {[y.min(), y.max()]}\n",
      "Early Stopping. Best test loss: 0.05877451151609421 in epoch 45\n",
      "========================================================================================\n",
      "dataset: protein, rows: 45730, columns: {x.shape[1]}, range of x: {[x.min(), x.max()]}, range of y: {[y.min(), y.max()]}\n",
      "Early Stopping. Best test loss: 0.5109367370605469 in epoch 49\n",
      "========================================================================================\n",
      "dataset: wine, rows: 1599, columns: {x.shape[1]}, range of x: {[x.min(), x.max()]}, range of y: {[y.min(), y.max()]}\n",
      "Early Stopping. Best test loss: 0.6109054088592529 in epoch 42\n",
      "========================================================================================\n",
      "dataset: yacht, rows: 308, columns: {x.shape[1]}, range of x: {[x.min(), x.max()]}, range of y: {[y.min(), y.max()]}\n",
      "Early Stopping. Best test loss: 0.05281481146812439 in epoch 177\n",
      "========================================================================================\n",
      "dataset: year_prediction_msd, rows: 515345, columns: {x.shape[1]}, range of x: {[x.min(), x.max()]}, range of y: {[y.min(), y.max()]}\n"
     ]
    }
   ],
   "source": [
    "for dataset_name in DATASETS:\n",
    "    print(\"=\" * 88)\n",
    "    x_train, y_train, x_test, y_test, _, _ = load_dataset(dataset_name)\n",
    "    model = create_model(x_train)\n",
    "    train_model(x_train, y_train, x_test, y_test, model, dataset_name)"
   ]
  },
  {
   "cell_type": "code",
   "execution_count": null,
   "metadata": {},
   "outputs": [],
   "source": []
  }
 ],
 "metadata": {
  "kernelspec": {
   "display_name": "probai",
   "language": "python",
   "name": "probai"
  },
  "language_info": {
   "codemirror_mode": {
    "name": "ipython",
    "version": 3
   },
   "file_extension": ".py",
   "mimetype": "text/x-python",
   "name": "python",
   "nbconvert_exporter": "python",
   "pygments_lexer": "ipython3",
   "version": "3.7.5"
  }
 },
 "nbformat": 4,
 "nbformat_minor": 4
}
