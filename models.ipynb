{
 "cells": [
  {
   "cell_type": "code",
   "execution_count": 1,
   "metadata": {},
   "outputs": [],
   "source": [
    "import torch\n",
    "import numpy as np\n",
    "from swag import run_SWAG\n",
    "from definitions import DATASETS\n",
    "from swag_mod import run_MCSWAG\n",
    "from noisy_adam import run_noisy_ADAM"
   ]
  },
  {
   "cell_type": "code",
   "execution_count": 2,
   "metadata": {},
   "outputs": [],
   "source": [
    "seed = 556"
   ]
  },
  {
   "cell_type": "code",
   "execution_count": 3,
   "metadata": {},
   "outputs": [
    {
     "data": {
      "text/plain": [
       "['boston_housing',\n",
       " 'concrete',\n",
       " 'energy_heating_load',\n",
       " 'power',\n",
       " 'wine',\n",
       " 'yacht',\n",
       " 'kin8nm',\n",
       " 'naval_compressor_decay',\n",
       " 'protein',\n",
       " 'year_prediction_msd']"
      ]
     },
     "execution_count": 3,
     "metadata": {},
     "output_type": "execute_result"
    }
   ],
   "source": [
    "DSELECTED = [\n",
    "    'boston_housing',\n",
    "    'concrete',\n",
    "    'energy_heating_load',\n",
    "    'power',\n",
    "    'wine',\n",
    "    'yacht',\n",
    "    'kin8nm',\n",
    "    'naval_compressor_decay',\n",
    "    'protein',\n",
    "    'year_prediction_msd',\n",
    "            ]\n",
    "DSELECTED "
   ]
  },
  {
   "cell_type": "code",
   "execution_count": null,
   "metadata": {
    "scrolled": false
   },
   "outputs": [
    {
     "name": "stdout",
     "output_type": "stream",
     "text": [
      "Dataset: boston_housing\n",
      "      SWAG Test | RMSE: 2.876, PICP: 0.353, MPIW:2.795\n",
      "    MCSWAG Test | RMSE: 3.290, PICP: 0.569, MPIW:6.530 \n",
      "Noisy ADAM Test | RMSE: 2.708, PICP: 0.471, MPIW:3.357\n",
      "Dataset: concrete\n",
      "      SWAG Test | RMSE: 5.681, PICP: 0.835, MPIW:16.086\n",
      "    MCSWAG Test | RMSE: 7.928, PICP: 0.728, MPIW:20.080 \n",
      "Noisy ADAM Test | RMSE: 13.903, PICP: 0.010, MPIW:0.505\n",
      "Dataset: energy_heating_load\n",
      "      SWAG Test | RMSE: 1.982, PICP: 0.818, MPIW:5.064\n",
      "    MCSWAG Test | RMSE: 1.687, PICP: 0.857, MPIW:6.574 \n",
      "Noisy ADAM Test | RMSE: 2.220, PICP: 0.909, MPIW:11.236\n",
      "Dataset: power\n",
      "      SWAG Test | RMSE: 4.189, PICP: 0.716, MPIW:8.820\n",
      "    MCSWAG Test | RMSE: 4.174, PICP: 0.343, MPIW:4.044 \n",
      "Noisy ADAM Test | RMSE: 4.174, PICP: 0.641, MPIW:7.906\n",
      "Dataset: wine\n",
      "      SWAG Test | RMSE: 0.661, PICP: 0.194, MPIW:0.354\n",
      "    MCSWAG Test | RMSE: 0.682, PICP: 0.069, MPIW:0.121 \n",
      "Noisy ADAM Test | RMSE: 0.662, PICP: 0.356, MPIW:0.677\n",
      "Dataset: yacht\n",
      "      SWAG Test | RMSE: 2.016, PICP: 0.645, MPIW:4.225\n",
      "    MCSWAG Test | RMSE: 2.046, PICP: 1.000, MPIW:6.392 \n",
      "Noisy ADAM Test | RMSE: 15.476, PICP: 0.032, MPIW:0.666\n",
      "Dataset: kin8nm\n",
      "      SWAG Test | RMSE: 0.133, PICP: 0.906, MPIW:0.555\n",
      "    MCSWAG Test | RMSE: 0.122, PICP: 0.617, MPIW:0.188 \n",
      "Noisy ADAM Test | RMSE: 0.114, PICP: 0.593, MPIW:0.161\n",
      "Dataset: naval_compressor_decay\n",
      "      SWAG Test | RMSE: 0.025, PICP: 0.000, MPIW:0.003\n",
      "    MCSWAG Test | RMSE: 0.025, PICP: 0.000, MPIW:0.015 \n",
      "Noisy ADAM Test | RMSE: 0.008, PICP: 0.052, MPIW:0.005\n",
      "Dataset: protein\n",
      "      SWAG Test | RMSE: 4.877, PICP: 0.214, MPIW:3.187\n"
     ]
    }
   ],
   "source": [
    "for dataset_name in DSELECTED:\n",
    "    print(f\"Dataset: {dataset_name}\")\n",
    "    torch.manual_seed(seed)\n",
    "    np.random.seed(seed)\n",
    "    run_SWAG(dataset_name)\n",
    "    torch.manual_seed(seed)\n",
    "    np.random.seed(seed)\n",
    "    run_MCSWAG(dataset_name)\n",
    "    torch.manual_seed(seed)\n",
    "    np.random.seed(seed)\n",
    "    run_noisy_ADAM(dataset_name)"
   ]
  },
  {
   "cell_type": "code",
   "execution_count": null,
   "metadata": {},
   "outputs": [],
   "source": [
    "\"\"\"\n",
    "Dataset: boston_housing\n",
    "      SWAG Test | RMSE: 2.876, PICP: 0.353, MPIW:2.795\n",
    "    MCSWAG Test | RMSE: 3.290, PICP: 0.569, MPIW:6.530 \n",
    "Noisy ADAM Test | RMSE: 2.708, PICP: 0.471, MPIW:3.357\n",
    "Dataset: concrete\n",
    "      SWAG Test | RMSE: 5.681, PICP: 0.835, MPIW:16.086\n",
    "    MCSWAG Test | RMSE: 7.928, PICP: 0.728, MPIW:20.080 \n",
    "Noisy ADAM Test | RMSE: 13.903, PICP: 0.010, MPIW:0.505\n",
    "Dataset: energy_heating_load\n",
    "      SWAG Test | RMSE: 1.982, PICP: 0.818, MPIW:5.064\n",
    "    MCSWAG Test | RMSE: 1.687, PICP: 0.857, MPIW:6.574 \n",
    "Noisy ADAM Test | RMSE: 2.220, PICP: 0.909, MPIW:11.236\n",
    "Dataset: power\n",
    "      SWAG Test | RMSE: 4.189, PICP: 0.716, MPIW:8.820\n",
    "    MCSWAG Test | RMSE: 4.174, PICP: 0.343, MPIW:4.044 \n",
    "Noisy ADAM Test | RMSE: 4.174, PICP: 0.641, MPIW:7.906\n",
    "Dataset: wine\n",
    "      SWAG Test | RMSE: 0.661, PICP: 0.194, MPIW:0.354\n",
    "    MCSWAG Test | RMSE: 0.682, PICP: 0.069, MPIW:0.121 \n",
    "Noisy ADAM Test | RMSE: 0.662, PICP: 0.356, MPIW:0.677\n",
    "Dataset: yacht\n",
    "      SWAG Test | RMSE: 2.016, PICP: 0.645, MPIW:4.225\n",
    "    MCSWAG Test | RMSE: 2.046, PICP: 1.000, MPIW:6.392 \n",
    "Noisy ADAM Test | RMSE: 15.476, PICP: 0.032, MPIW:0.666\n",
    "Dataset: kin8nm\n",
    "      SWAG Test | RMSE: 0.133, PICP: 0.906, MPIW:0.555\n",
    "    MCSWAG Test | RMSE: 0.122, PICP: 0.617, MPIW:0.188 \n",
    "Noisy ADAM Test | RMSE: 0.114, PICP: 0.593, MPIW:0.161\n",
    "\n",
    "\n",
    "\"\"\""
   ]
  },
  {
   "cell_type": "code",
   "execution_count": null,
   "metadata": {
    "scrolled": false
   },
   "outputs": [],
   "source": [
    "K = 10\n",
    "S = 500\n",
    "weight_decay = 0\n",
    "multiplier = 2\n",
    "tolerance = 0.05\n",
    "# for dataset_name in ['boston_housing']:\n",
    "# for dataset_name in ['yacht']:\n",
    "# for dataset_name in ['year_prediction_msd']:\n",
    "# for dataset_name in ['naval_compressor_decay']:\n",
    "#     for dataset_name in DATASETS[:3]:\n",
    "for dataset_name in DATASETS:\n",
    "#     for dataset_name in ['naval_compressor_decay']:\n",
    "#     if dataset_name in TOLERANCE:\n",
    "#         continue\n",
    "    run_SWAG(dataset_name, weight_decay=0, train_model_flag=False)\n",
    "    for tolerance in np.linspace(0.05, 0.08, 8):\n",
    "        print(f\"\"\"-----> TOLERANCE: {tolerance}\"\"\")\n",
    "        x_train, y_train, x_test, y_test, _, _ = load_dataset(dataset_name, verbose=False)\n",
    "        batch_size = x_train.shape[0]//9\n",
    "        model = create_model(x_train, layer_dims=[50], verbose=False)\n",
    "    #     train_model(x_train, y_train, x_test, y_test, model, dataset_name, lr=0.001, epochs=50000, verbose=False, \n",
    "    #                 batch_size=batch_size, weight_decay=weight_decay)\n",
    "        model = load_model(model, f\"best_model_weights-{dataset_name}.pth\", verbose=False)\n",
    "        y_pred = get_test_predictions(x_train, y_train, x_test, y_test, model)\n",
    "    #     print(f\"SGD RMSE: {RMSE(y_pred, y_test):.3f}\")\n",
    "#         print(\"---MOD---\")\n",
    "        theta_epoch = torch.nn.utils.parameters_to_vector(model.parameters()).detach().cpu().clone()\n",
    "        lr_multipliers = torch.ones_like(theta_epoch).float()\n",
    "        for rounds in range(10):\n",
    "            try:\n",
    "                model = load_model(model, f\"best_model_weights-{dataset_name}.pth\", verbose=False)\n",
    "                theta_swa, sigma_diag, D, thetas = train_SWAG_mod(x_train, y_train, x_test, y_test, model, K, lr_multipliers,\n",
    "                                                              verbose=False, lr=0.01, batch_size=batch_size, \n",
    "                                                              weight_decay=weight_decay, epochs=50)\n",
    "                print(torch.diagonal(calculate_sigma(sigma_diag, D, K)).numpy().mean())\n",
    "                weight_series = torch.stack(thetas).numpy()\n",
    "#                 step_plot = weight_series.shape[1] // 5\n",
    "                weight_series -= weight_series.mean(axis=0, keepdims=True)\n",
    "                weight_series /= weight_series.std(axis=0, keepdims=True) + 1e-10\n",
    "    #             plt.plot(weight_series[:,::step_plot], alpha=0.3)\n",
    "    #             plt.show()\n",
    "                coeffs = calculate_coeffs(weight_series, False)\n",
    "                lr_multipliers[np.abs(coeffs) > tolerance] *= multiplier\n",
    "                _, x_val, _, y_val = train_test_split(x_train, y_train, test_size=0.1)\n",
    "                y_val_pred = model(torch.from_numpy(x_val).float().to(device)).detach().cpu().numpy()\n",
    "                sigma_diag = torch.clamp(sigma_diag, min=1e-10)\n",
    "                rmse_test, pcip_test, mpiw_test = sample_and_get_metrics(x_train, y_train, x_test, y_test, \n",
    "                                                                         model, theta_swa, sigma_diag, D, K, S)\n",
    "                rmse_val, pcip_val, mpiw_val = sample_and_get_metrics(x_train, y_train, x_val, y_val, \n",
    "                                                                         model, theta_swa, sigma_diag, D, K, S)\n",
    "            except Exception as e:\n",
    "#                 raise e\n",
    "                print(\"Some error\")\n"
   ]
  },
  {
   "cell_type": "code",
   "execution_count": null,
   "metadata": {},
   "outputs": [],
   "source": []
  }
 ],
 "metadata": {
  "kernelspec": {
   "display_name": "probai",
   "language": "python",
   "name": "probai"
  },
  "language_info": {
   "codemirror_mode": {
    "name": "ipython",
    "version": 3
   },
   "file_extension": ".py",
   "mimetype": "text/x-python",
   "name": "python",
   "nbconvert_exporter": "python",
   "pygments_lexer": "ipython3",
   "version": "3.7.5"
  }
 },
 "nbformat": 4,
 "nbformat_minor": 4
}
